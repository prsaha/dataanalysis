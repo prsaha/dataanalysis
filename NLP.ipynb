{
 "cells": [
  {
   "cell_type": "code",
   "execution_count": null,
   "id": "c37a6ebd",
   "metadata": {},
   "outputs": [],
   "source": [
    "import spacy\n",
    "\n",
    "nlp = spacy.load(\"en_core_web_sm\")\n",
    "\n",
    "def calculate(text):\n",
    "    doc = nlp(text)\n",
    "    for token in doc:\n",
    "        if token.pos_ == \"NUM\":\n",
    "            num1 = int(token.text)\n",
    "        if token.text == \"plus\":\n",
    "            operator = \"+\"\n",
    "        if token.text == \"minus\":\n",
    "            operator = \"-\"\n",
    "        if token.pos_ == \"NUM\" and operator:\n",
    "            num2 = int(token.text)\n",
    "            if operator == \"+\":\n",
    "                result = num1 + num2\n",
    "            elif operator == \"-\":\n",
    "                result = num1 - num2\n",
    "            return f\"The answer is {result}\"\n",
    "\n",
    "text = \"What is 5 plus 3?\"\n",
    "result = calculate(text)\n",
    "print(result)\n"
   ]
  },
  {
   "cell_type": "code",
   "execution_count": 1,
   "id": "25c49f95",
   "metadata": {},
   "outputs": [
    {
     "name": "stdout",
     "output_type": "stream",
     "text": [
      "Memory usage: 68665344 bytes\n"
     ]
    }
   ],
   "source": [
    "import psutil\n",
    "import os\n",
    "\n",
    "# Get the current process ID\n",
    "pid = os.getpid()\n",
    "\n",
    "# Get the process memory usage\n",
    "memory_usage = psutil.Process(pid).memory_info().rss\n",
    "\n",
    "print(f\"Memory usage: {memory_usage} bytes\")\n"
   ]
  },
  {
   "cell_type": "code",
   "execution_count": null,
   "id": "3cdf9bf4",
   "metadata": {},
   "outputs": [],
   "source": []
  },
  {
   "cell_type": "code",
   "execution_count": null,
   "id": "734a05dc",
   "metadata": {},
   "outputs": [],
   "source": [
    "import requests\n",
    "from bs4 import BeautifulSoup\n",
    "import spacy\n",
    "from gensim.summarization import summarize\n",
    "\n",
    "# Load the spaCy model for English\n",
    "nlp = spacy.load(\"en_core_web_sm\")\n",
    "\n",
    "# Get the URL of the news article from the user\n",
    "url = input(\"Enter the URL of the news article: \")\n",
    "\n",
    "# Use requests to download the article HTML\n",
    "html = requests.get(url).content\n",
    "\n",
    "# Use BeautifulSoup to parse the HTML and extract the article text\n",
    "soup = BeautifulSoup(html, \"html.parser\")\n",
    "article = soup.get_text()\n",
    "\n",
    "# Use spaCy to parse the article text and extract the main points\n",
    "doc = nlp(article)\n",
    "sentences = [sent.text for sent in doc.sents]\n",
    "summary = summarize(\" \".join(sentences), ratio=0.2)\n",
    "\n",
    "# Print the summary\n",
    "print(summary)"
   ]
  },
  {
   "cell_type": "code",
   "execution_count": null,
   "id": "a09f8d26",
   "metadata": {},
   "outputs": [],
   "source": [
    "import requests \n",
    "from bs4 import BeautifulSoup\n",
    "import spacy\n",
    "from gensim.summarization import summarize"
   ]
  },
  {
   "cell_type": "code",
   "execution_count": null,
   "id": "9bb8c1d4",
   "metadata": {},
   "outputs": [],
   "source": []
  }
 ],
 "metadata": {
  "kernelspec": {
   "display_name": "Python 3 (ipykernel)",
   "language": "python",
   "name": "python3"
  },
  "language_info": {
   "codemirror_mode": {
    "name": "ipython",
    "version": 3
   },
   "file_extension": ".py",
   "mimetype": "text/x-python",
   "name": "python",
   "nbconvert_exporter": "python",
   "pygments_lexer": "ipython3",
   "version": "3.9.13"
  }
 },
 "nbformat": 4,
 "nbformat_minor": 5
}
